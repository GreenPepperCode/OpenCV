{
 "cells": [
  {
   "cell_type": "code",
   "execution_count": 7,
   "metadata": {},
   "outputs": [],
   "source": [
    "import cv2\n",
    "\n",
    "# Charge l'image\n",
    "img = cv2.imread(\"orc.jpg\", cv2.IMREAD_GRAYSCALE)\n",
    "\n",
    "# Récupère les dimensions originales\n",
    "hauteur, largeur = img.shape[:2]\n",
    "\n",
    "# Calcule les nouvelles dimensions\n",
    "nouvelle_hauteur = hauteur // 2\n",
    "nouvelle_largeur = largeur // 2\n",
    "\n",
    "# Redimensionne l'image\n",
    "img_redimensionnee = cv2.resize(img, (nouvelle_largeur, nouvelle_hauteur))\n",
    "\n",
    "# Affiche l'image redimensionnée\n",
    "cv2.imshow(\"Image redimensionnee\", img_redimensionnee)\n",
    "cv2.waitKey(0)\n",
    "cv2.destroyAllWindows()\n"
   ]
  },
  {
   "cell_type": "code",
   "execution_count": 11,
   "metadata": {},
   "outputs": [],
   "source": [
    "imgCanny = cv2.Canny(img_redimensionnee, 100, 150)\n",
    "\n",
    "cv2.imshow(\"Image redimensionnee\", img_redimensionnee)\n",
    "cv2.imshow(\"Image Canny\", imgCanny)\n",
    "cv2.waitKey(0)\n",
    "cv2.destroyAllWindows()"
   ]
  },
  {
   "cell_type": "code",
   "execution_count": null,
   "metadata": {},
   "outputs": [],
   "source": []
  }
 ],
 "metadata": {
  "kernelspec": {
   "display_name": "Python 3",
   "language": "python",
   "name": "python3"
  },
  "language_info": {
   "codemirror_mode": {
    "name": "ipython",
    "version": 3
   },
   "file_extension": ".py",
   "mimetype": "text/x-python",
   "name": "python",
   "nbconvert_exporter": "python",
   "pygments_lexer": "ipython3",
   "version": "3.12.2"
  }
 },
 "nbformat": 4,
 "nbformat_minor": 2
}
