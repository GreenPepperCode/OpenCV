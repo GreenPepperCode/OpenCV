{
 "cells": [
  {
   "cell_type": "markdown",
   "metadata": {},
   "source": [
    "# Traitement d'images : filtrage, seuillage, et comptage d'objets avec opencv\n",
    "\n",
    "Une initiation à la biblithèque opencv "
   ]
  },
  {
   "cell_type": "markdown",
   "metadata": {},
   "source": [
    "# Veille technologique: Opencv python\n",
    "\n",
    "-  Suivre les instructions et faire une recherche selon ce qui est demandé."
   ]
  },
  {
   "cell_type": "markdown",
   "metadata": {},
   "source": [
    "## Operations Simples"
   ]
  },
  {
   "cell_type": "code",
   "execution_count": 3,
   "metadata": {},
   "outputs": [],
   "source": [
    "import cv2\n",
    "import matplotlib.pyplot as plt"
   ]
  },
  {
   "cell_type": "code",
   "execution_count": 4,
   "metadata": {},
   "outputs": [
    {
     "data": {
      "image/png": "[encoded data removed]",
      "text/plain": [
       "<Figure size 640x480 with 1 Axes>"
      ]
     },
     "metadata": {},
     "output_type": "display_data"
    }
   ],
   "source": [
    "# Lire l'image avec OpenCV\n",
    "image = cv2.imread('image_01.png')\n",
    "\n",
    "# Convertir l'image de BGR en RGB\n",
    "image_rgb = cv2.cvtColor(image, cv2.COLOR_BGR2RGB)\n",
    "\n",
    "# Afficher l'image avec matplotlib\n",
    "plt.imshow(image_rgb)\n",
    "plt.axis('off')  # Pour ne pas afficher les axes\n",
    "plt.show()"
   ]
  },
  {
   "cell_type": "code",
   "execution_count": 5,
   "metadata": {},
   "outputs": [
    {
     "name": "stdout",
     "output_type": "stream",
     "text": [
      "Taille de l'image: (760, 541, 3)\n"
     ]
    }
   ],
   "source": [
    "# afficher la taille de l'image\n",
    "# Lire l'image avec OpenCV\n",
    "image = cv2.imread('image_01.png')\n",
    "\n",
    "# Afficher la taille de l'image\n",
    "print(f\"Taille de l'image: {image.shape}\")\n"
   ]
  },
  {
   "cell_type": "code",
   "execution_count": 6,
   "metadata": {},
   "outputs": [
    {
     "name": "stdout",
     "output_type": "stream",
     "text": [
      "Valeurs de couleur pour le pixel (x=150, y=100): Rouge=0, Vert=0, Bleu=0\n"
     ]
    }
   ],
   "source": [
    "# Coordonnées du pixel\n",
    "x = 150\n",
    "y = 100\n",
    "\n",
    "# Accéder aux valeurs de couleur pour le pixel spécifié\n",
    "# OpenCV utilise l'ordre BGR par défaut, pas RGB\n",
    "bleu = image[y, x, 0]\n",
    "vert = image[y, x, 1]\n",
    "rouge = image[y, x, 2]\n",
    "\n",
    "# Afficher les valeurs\n",
    "print(f\"Valeurs de couleur pour le pixel (x={x}, y={y}): Rouge={rouge}, Vert={vert}, Bleu={bleu}\")"
   ]
  },
  {
   "cell_type": "code",
   "execution_count": 7,
   "metadata": {},
   "outputs": [],
   "source": [
    "# Crop une partie de l'image (sélectionner une petite partie à partir des coordonnées)\n",
    "# Définir les coordonnées du coin supérieur gauche et du coin inférieur droit du rectangle de rognage\n",
    "x_start = 100\n",
    "y_start = 50\n",
    "x_end = 200\n",
    "y_end = 150\n",
    "\n",
    "# Rogner l'image\n",
    "cropped = image[y_start:y_end, x_start:x_end]\n",
    "\n",
    "# Afficher l'image rognée\n",
    "cv2.imshow(\"Image Rognee\", cropped)\n",
    "cv2.waitKey(0)\n",
    "cv2.destroyAllWindows()"
   ]
  },
  {
   "cell_type": "code",
   "execution_count": 8,
   "metadata": {},
   "outputs": [],
   "source": [
    "# Redimensionner l'image à 200x200 pixels\n",
    "resized = cv2.resize(image, (200, 200))\n",
    "\n",
    "# Afficher l'image redimensionnée\n",
    "cv2.imshow(\"Image Redimensionnee\", resized)\n",
    "cv2.waitKey(0)\n",
    "cv2.destroyAllWindows()\n",
    "\n",
    "# qu'est ce que vous remarquez !!\n"
   ]
  },
  {
   "cell_type": "markdown",
   "metadata": {},
   "source": [
    "l'image est étiré, le ratio n'est plus conservé"
   ]
  },
  {
   "cell_type": "code",
   "execution_count": 9,
   "metadata": {},
   "outputs": [],
   "source": [
    "# Charger l'image\n",
    "image = cv2.imread('image_01.png')\n",
    "\n",
    "# Définir la largeur ou la hauteur cible pour le redimensionnement\n",
    "largeur_cible = 400  # Pour redimensionner par largeur\n",
    "hauteur_cible = 400  # Pour redimensionner par hauteur\n",
    "\n",
    "# Obtenir les dimensions originales de l'image\n",
    "hauteur_originale, largeur_originale = image.shape[:2]\n",
    "\n",
    "# Calculer le facteur de mise à l'échelle pour la largeur et la hauteur\n",
    "# Pour conserver le rapport d'aspect, utilisez le même facteur pour fx et fy\n",
    "facteur_largeur = largeur_cible / largeur_originale\n",
    "facteur_hauteur = hauteur_cible / hauteur_originale\n",
    "\n",
    "# Redimensionner l'image par la largeur tout en conservant le rapport d'aspect\n",
    "image_redimensionnee_largeur = cv2.resize(image, None, fx=facteur_largeur, fy=facteur_largeur, interpolation=cv2.INTER_AREA)\n",
    "\n",
    "# Redimensionner l'image par la hauteur tout en conservant le rapport d'aspect\n",
    "image_redimensionnee_hauteur = cv2.resize(image, None, fx=facteur_hauteur, fy=facteur_hauteur, interpolation=cv2.INTER_AREA)\n",
    "\n",
    "# Afficher les images redimensionnées\n",
    "cv2.imshow(\"Image redimensionnee par largeur\", image_redimensionnee_largeur)\n",
    "cv2.imshow(\"Image redimensionnee par hauteur\", image_redimensionnee_hauteur)\n",
    "cv2.waitKey(0)\n",
    "cv2.destroyAllWindows()\n"
   ]
  },
  {
   "cell_type": "code",
   "execution_count": 10,
   "metadata": {},
   "outputs": [],
   "source": [
    "import imutils\n",
    "# Charger l'image\n",
    "image = cv2.imread('image_01.png')\n",
    "\n",
    "# Tourner l'image de -45 degrés sans tronquage\n",
    "rotated = imutils.rotate(image, angle=-45)\n",
    "\n",
    "# Afficher l'image tournée\n",
    "cv2.imshow(\"Image tournee avec imutils\", rotated)\n",
    "cv2.waitKey(0)\n",
    "cv2.destroyAllWindows()"
   ]
  },
  {
   "cell_type": "markdown",
   "metadata": {},
   "source": [
    "Vous pouvez utiliser la bibliothèque imutils pour faire les rotations et d'autres fonctions facilement. Pour l'instaler: pip install imutils"
   ]
  },
  {
   "cell_type": "markdown",
   "metadata": {},
   "source": [
    "# Dessiner sur l'image"
   ]
  },
  {
   "cell_type": "code",
   "execution_count": 11,
   "metadata": {},
   "outputs": [],
   "source": [
    "# Définir les coordonnées du coin supérieur gauche et du coin inférieur droit du rectangle\n",
    "# (x, y) du coin supérieur gauche et (x + w, y + h) du coin inférieur droit\n",
    "pt1 = (100, 100)\n",
    "pt2 = (50, 300)\n",
    "\n",
    "# Définir la couleur du rectangle en BGR (Bleu, Vert, Rouge) et l'épaisseur de la ligne\n",
    "couleur = (0, 255, 0)  # Vert\n",
    "epaisseur = 3  # Pixels\n",
    "\n",
    "# Dessiner le rectangle sur l'image\n",
    "cv2.rectangle(rotated, pt1, pt2, couleur, epaisseur)\n",
    "\n",
    "# Afficher l'image avec le rectangle\n",
    "cv2.imshow(\"Image avec rectangle\", rotated)\n",
    "cv2.waitKey(0)\n",
    "cv2.destroyAllWindows()"
   ]
  },
  {
   "cell_type": "code",
   "execution_count": 12,
   "metadata": {},
   "outputs": [],
   "source": [
    "# Définir les coordonnées du centre du cercle (x, y)\n",
    "centre = (150, 150)\n",
    "\n",
    "# Définir le rayon du cercle\n",
    "rayon = 50\n",
    "\n",
    "# Définir la couleur du cercle en BGR (Bleu, Vert, Rouge) et l'épaisseur de la ligne\n",
    "couleur = (255, 0, 0)  # Bleu\n",
    "epaisseur = 3  # Pixels\n",
    "\n",
    "# Dessiner le cercle sur l'image\n",
    "cv2.circle(rotated, centre, rayon, couleur, epaisseur)\n",
    "\n",
    "# Afficher l'image avec le cercle\n",
    "cv2.imshow(\"Image avec cercle\", rotated)\n",
    "cv2.waitKey(0)\n",
    "cv2.destroyAllWindows()"
   ]
  },
  {
   "cell_type": "markdown",
   "metadata": {},
   "source": [
    "# Filtrage d'image\n",
    "\n",
    "* Blur\n",
    "* Gaussian blur\n",
    "* Median blur\n",
    "* Sharpening\n",
    "* Bilateral blur\n",
    "* Bilateral filtering"
   ]
  },
  {
   "cell_type": "code",
   "execution_count": 13,
   "metadata": {},
   "outputs": [],
   "source": [
    "import cv2\n",
    "\n",
    "# Charger l'image\n",
    "image_bois = cv2.imread('bois.png')  # Assure-toi que le chemin vers l'image est correct\n",
    "\n",
    "# Afficher l'image\n",
    "cv2.imshow(\"Image Bois\", image_bois)\n",
    "cv2.waitKey(0)\n",
    "cv2.destroyAllWindows()"
   ]
  },
  {
   "cell_type": "code",
   "execution_count": 14,
   "metadata": {},
   "outputs": [],
   "source": [
    "# Utiliser la méthode \"cv2.filter2D\" avec un kernel de taille 2\n",
    "import cv2\n",
    "import numpy as np\n",
    "\n",
    "# Charger l'image\n",
    "image = cv2.imread('bois.png')\n",
    "\n",
    "# Définir un kernel de taille 2x2\n",
    "# Ce kernel est juste un exemple. Les valeurs spécifiques dépendront de l'effet désiré.\n",
    "kernel = np.array([[1, -1],\n",
    "                   [-1, 1]], dtype=np.float32)\n",
    "\n",
    "# Appliquer le kernel à l'image en utilisant cv2.filter2D\n",
    "image_filtree = cv2.filter2D(image, -1, kernel)\n",
    "\n",
    "# Afficher l'image originale et l'image filtrée\n",
    "cv2.imshow('Image Originale', image)\n",
    "cv2.imshow('Image Filtree avec Kernel 2x2', image_filtree)\n",
    "cv2.waitKey(0)\n",
    "cv2.destroyAllWindows()\n",
    "\n"
   ]
  },
  {
   "cell_type": "code",
   "execution_count": 15,
   "metadata": {},
   "outputs": [],
   "source": [
    "# Appliquer blur avec un kernel de taille 5x5\n",
    "import cv2\n",
    "import numpy as np\n",
    "\n",
    "# Charger l'image\n",
    "image = cv2.imread('bois.png')\n",
    "\n",
    "# Vérifier si l'image a été chargée correctement\n",
    "if image is None:\n",
    "    print(\"Erreur : L'image n'a pas pu être chargée. Vérifie le chemin d'accès.\")\n",
    "else:\n",
    "    # Créer un kernel de taille 5x5 pour le flou\n",
    "    kernel = np.ones((5, 5), np.float32) / 25\n",
    "\n",
    "    # Appliquer le kernel à l'image en utilisant cv2.filter2D\n",
    "    image_floue = cv2.filter2D(image, -1, kernel)\n",
    "\n",
    "    # Afficher l'image originale et l'image floue\n",
    "    cv2.imshow('Image Originale', image)\n",
    "    cv2.imshow('Image Floue avec Kernel 5x5', image_floue)\n",
    "    cv2.waitKey(0)\n",
    "    cv2.destroyAllWindows()\n",
    "\n"
   ]
  },
  {
   "cell_type": "code",
   "execution_count": 16,
   "metadata": {},
   "outputs": [],
   "source": [
    "image_floue1= cv2.blur(image, (5, 5))\n",
    "# Afficher l'image originale et l'image floue\n",
    "cv2.imshow('Image Originale', image_floue1)\n",
    "cv2.waitKey(0)\n",
    "cv2.destroyAllWindows()"
   ]
  },
  {
   "cell_type": "code",
   "execution_count": 17,
   "metadata": {},
   "outputs": [],
   "source": [
    "# gaussian blur\n",
    "\n",
    "image_floue_gaussien = cv2.GaussianBlur(image, (5, 5), 0)\n",
    "cv2.imshow('Image gauss', image_floue_gaussien)\n",
    "cv2.waitKey(0)\n",
    "cv2.destroyAllWindows()"
   ]
  },
  {
   "cell_type": "code",
   "execution_count": 18,
   "metadata": {},
   "outputs": [],
   "source": [
    "import cv2\n",
    "\n",
    "# Charger l'image\n",
    "image = cv2.imread('bois.png')  # Assure-toi que le chemin vers l'image est correct\n",
    "\n",
    "# Appliquer un flou médian à l'image\n",
    "# Utilise un kernel de taille 5. Remarque : la taille doit être un entier impair.\n",
    "image_floue_median = cv2.medianBlur(image, 5)\n",
    "\n",
    "# Afficher l'image originale et l'image floutée\n",
    "cv2.imshow('Image Originale', image)\n",
    "cv2.imshow('Image avec Flou Médian', image_floue_median)\n",
    "\n",
    "cv2.waitKey(0)\n",
    "cv2.destroyAllWindows()\n"
   ]
  },
  {
   "cell_type": "code",
   "execution_count": 1,
   "metadata": {},
   "outputs": [],
   "source": [
    "import cv2\n",
    "import numpy as np\n",
    "\n",
    "# Charger l'image\n",
    "image = cv2.imread('bois.png')\n",
    "\n",
    "# Définir un kernel de sharpening\n",
    "kernel_sharpening = np.array([[-1, -1, -1],\n",
    "                              [-1,  9, -1],\n",
    "                              [-1, -1, -1]])\n",
    "\n",
    "# Appliquer le kernel à l'image en utilisant cv2.filter2D\n",
    "image_sharpened = cv2.filter2D(image, -1, kernel_sharpening)\n",
    "\n",
    "# Afficher l'image originale et l'image accentuée\n",
    "cv2.imshow('Image Originale', image)\n",
    "cv2.imshow('Image Accentuée', image_sharpened)\n",
    "\n",
    "cv2.waitKey(0)\n",
    "cv2.destroyAllWindows()\n"
   ]
  },
  {
   "cell_type": "code",
   "execution_count": 20,
   "metadata": {},
   "outputs": [],
   "source": [
    "import cv2\n",
    "\n",
    "# Charger l'image\n",
    "image = cv2.imread('bois.png')\n",
    "\n",
    "# Appliquer un filtrage bilatéral\n",
    "# Les paramètres sont : l'image source, le diamètre des pixels voisins pris en compte, sigmaColor, sigmaSpace\n",
    "image_filtree_bilaterale = cv2.bilateralFilter(image, d=9, sigmaColor=75, sigmaSpace=75)\n",
    "\n",
    "# Afficher l'image originale et l'image filtrée\n",
    "cv2.imshow('Image Originale', image)\n",
    "cv2.imshow('Image avec Filtrage Bilatéral', image_filtree_bilaterale)\n",
    "\n",
    "cv2.waitKey(0)\n",
    "cv2.destroyAllWindows()\n"
   ]
  },
  {
   "cell_type": "markdown",
   "metadata": {},
   "source": [
    "# Seuillage d'image\n",
    "\n",
    "En utilisant l'image \"sudoku\" appliquer:\n",
    "* Binary Thresholding\n",
    "* Otsu thresholding\n",
    "* Adaptive thresholding"
   ]
  },
  {
   "cell_type": "code",
   "execution_count": 21,
   "metadata": {},
   "outputs": [],
   "source": [
    "# appliquer un seuillage binaire d'un seuil de 127\n",
    "import cv2\n",
    "\n",
    "# Charger l'image en niveaux de gris\n",
    "image = cv2.imread('sudoku.jpg', cv2.IMREAD_GRAYSCALE)\n",
    "\n",
    "# Seuillage binaire\n",
    "_, thresh_binary1 = cv2.threshold(image, 127, 255, cv2.THRESH_BINARY)"
   ]
  },
  {
   "cell_type": "code",
   "execution_count": 22,
   "metadata": {},
   "outputs": [],
   "source": [
    "# appliquer un seuillage binaire d'un seuil de 30\n",
    "_, thresh_binary2 = cv2.threshold(image, 30, 255, cv2.THRESH_BINARY)"
   ]
  },
  {
   "cell_type": "code",
   "execution_count": 23,
   "metadata": {},
   "outputs": [],
   "source": [
    "# appliquer un seuillage binaire d'un seuil de 240\n",
    "_, thresh_binary3 = cv2.threshold(image, 240, 255, cv2.THRESH_BINARY)"
   ]
  },
  {
   "cell_type": "markdown",
   "metadata": {},
   "source": [
    "Qu'est ce que vous remarquez ?!"
   ]
  },
  {
   "cell_type": "code",
   "execution_count": 24,
   "metadata": {},
   "outputs": [],
   "source": [
    "# appliquer \"Otsu\" seuillage\n",
    "# Seuillage d'Otsu\n",
    "_, thresh_otsu = cv2.threshold(image, 0, 255, cv2.THRESH_BINARY + cv2.THRESH_OTSU)"
   ]
  },
  {
   "cell_type": "code",
   "execution_count": 25,
   "metadata": {},
   "outputs": [],
   "source": [
    "# appliquer \"Adaptive threshold\"\n",
    "# Seuillage adaptatif\n",
    "thresh_adaptatif = cv2.adaptiveThreshold(image, 255, cv2.ADAPTIVE_THRESH_MEAN_C, \n",
    "                                         cv2.THRESH_BINARY, 11, 2)"
   ]
  },
  {
   "cell_type": "code",
   "execution_count": 32,
   "metadata": {},
   "outputs": [],
   "source": [
    "# Afficher l'image originale\n",
    "cv2.imshow('Original', image)\n",
    "\n",
    "# Afficher l'image avec seuillage binaire\n",
    "cv2.imshow('Seuillage Binaire1', thresh_binary1)\n",
    "cv2.imshow('Seuillage Binaire2', thresh_binary2)\n",
    "cv2.imshow('Seuillage Binaire3', thresh_binary3)\n",
    "# Afficher l'image avec seuillage d'Otsu\n",
    "cv2.imshow('Seuillage d\\'Otsu', thresh_otsu)\n",
    "\n",
    "# Afficher l'image avec seuillage adaptatif\n",
    "cv2.imshow('Seuillage Adaptatif', thresh_adaptatif)\n",
    "\n",
    "cv2.waitKey(0)\n",
    "cv2.destroyAllWindows()"
   ]
  },
  {
   "cell_type": "markdown",
   "metadata": {},
   "source": [
    "# Détection des bords\n",
    "\n",
    "* Sobel\n",
    "* Canny"
   ]
  },
  {
   "cell_type": "code",
   "execution_count": 2,
   "metadata": {},
   "outputs": [],
   "source": [
    "import cv2\n",
    "import numpy as np\n",
    "\n",
    "# Charger l'image et convertir en niveaux de gris\n",
    "image = cv2.imread('sudoku.jpg')\n",
    "gray = cv2.cvtColor(image, cv2.COLOR_BGR2GRAY)\n",
    "\n",
    "# Appliquer le filtre de Sobel en X et en Y\n",
    "sobelx = cv2.Sobel(gray, cv2.CV_64F, 1, 0, ksize=3)\n",
    "sobely = cv2.Sobel(gray, cv2.CV_64F, 0, 1, ksize=3)\n",
    "\n",
    "# Calculer et convertir la magnitude des gradients\n",
    "magnitude = np.sqrt(sobelx**2 + sobely**2)\n",
    "magnitude = np.uint8(magnitude)\n",
    "\n",
    "# Afficher l'image originale et la magnitude des gradients\n",
    "cv2.imshow('Image Originale', image)\n",
    "cv2.imshow('Magnitude des Gradients', magnitude)\n",
    "\n",
    "cv2.waitKey(0)\n",
    "cv2.destroyAllWindows()\n"
   ]
  },
  {
   "cell_type": "code",
   "execution_count": 3,
   "metadata": {},
   "outputs": [],
   "source": [
    "# Canny\n",
    "import cv2\n",
    "\n",
    "# Charger l'image et convertir en niveaux de gris\n",
    "image = cv2.imread('sudoku.jpg')\n",
    "gray = cv2.cvtColor(image, cv2.COLOR_BGR2GRAY)\n",
    "\n",
    "# Appliquer la détection de bords Canny\n",
    "edges = cv2.Canny(gray, threshold1=50, threshold2=150)\n",
    "\n",
    "# Afficher l'image originale et les bords détectés\n",
    "cv2.imshow('Image Originale', image)\n",
    "cv2.imshow('Bords détectés avec Canny', edges)\n",
    "\n",
    "cv2.waitKey(0)\n",
    "cv2.destroyAllWindows()\n"
   ]
  },
  {
   "cell_type": "markdown",
   "metadata": {},
   "source": [
    "# Détection des contours"
   ]
  },
  {
   "cell_type": "code",
   "execution_count": 4,
   "metadata": {},
   "outputs": [],
   "source": [
    "import cv2\n",
    "import numpy as np\n",
    "\n",
    "# Charger l'image en niveaux de gris\n",
    "image = cv2.imread(\"image_02.png\")\n",
    "gray = cv2.cvtColor(image, cv2.COLOR_BGR2GRAY)\n",
    "\n",
    "# Appliquer la détection de bords de Canny\n",
    "edges = cv2.Canny(gray, 100, 200)\n",
    "\n",
    "# Trouver les contours\n",
    "contours, hierarchy = cv2.findContours(edges, cv2.RETR_EXTERNAL, cv2.CHAIN_APPROX_SIMPLE)\n",
    "\n",
    "# Dessiner les contours sur l'image originale\n",
    "image_with_contours = image.copy()\n",
    "cv2.drawContours(image_with_contours, contours, -1, (0, 255, 0), 3)\n",
    "\n",
    "# Afficher l'image avec les contours\n",
    "cv2.imshow(\"Contours\", image_with_contours)\n",
    "cv2.waitKey(0)\n",
    "cv2.destroyAllWindows()\n"
   ]
  },
  {
   "cell_type": "markdown",
   "metadata": {},
   "source": [
    "#  Compter des objets"
   ]
  },
  {
   "cell_type": "code",
   "execution_count": 5,
   "metadata": {},
   "outputs": [
    {
     "name": "stdout",
     "output_type": "stream",
     "text": [
      "Nombre d'objets détectés : 6\n"
     ]
    }
   ],
   "source": [
    "import cv2\n",
    "import numpy as np\n",
    "\n",
    "# Charger l'image en niveaux de gris\n",
    "image = cv2.imread(\"image_02.png\")\n",
    "gray = cv2.cvtColor(image, cv2.COLOR_BGR2GRAY)\n",
    "\n",
    "# Appliquer la détection de bords de Canny\n",
    "edges = cv2.Canny(gray, 100, 200)\n",
    "\n",
    "# Trouver les contours\n",
    "contours, hierarchy = cv2.findContours(edges, cv2.RETR_EXTERNAL, cv2.CHAIN_APPROX_SIMPLE)\n",
    "\n",
    "# Compter les objets\n",
    "nombre_objets = len(contours)\n",
    "print(f\"Nombre d'objets détectés : {nombre_objets}\")\n",
    "\n",
    "# Dessiner les contours sur l'image originale\n",
    "image_with_contours = image.copy()\n",
    "cv2.drawContours(image_with_contours, contours, -1, (0, 255, 0), 3)\n",
    "\n",
    "# Afficher l'image avec les contours\n",
    "cv2.imshow(\"Contours\", image_with_contours)\n",
    "cv2.waitKey(0)\n",
    "cv2.destroyAllWindows()\n"
   ]
  },
  {
   "cell_type": "markdown",
   "metadata": {},
   "source": [
    "# Challenge\n",
    "Compter le nombre d'objets dans l'image 03 avec le code précédent.\n",
    "- Qu'est ce que vous remarquez?\n",
    "- Utiliser l'algorithme Watershed pour detecter et séparer les objets connectés."
   ]
  },
  {
   "cell_type": "code",
   "execution_count": 19,
   "metadata": {},
   "outputs": [
    {
     "name": "stdout",
     "output_type": "stream",
     "text": [
      "Nombre d'objets détectés : 4\n"
     ]
    }
   ],
   "source": [
    "#import cv2\n",
    "import numpy as np\n",
    "\n",
    "# Charger l'image en niveaux de gris\n",
    "image = cv2.imread(\"image_03.jpg\")\n",
    "gray = cv2.cvtColor(image, cv2.COLOR_BGR2GRAY)\n",
    "\n",
    "# Appliquer la détection de bords de Canny\n",
    "edges = cv2.Canny(gray, 100, 200)\n",
    "\n",
    "# Trouver les contours\n",
    "contours, hierarchy = cv2.findContours(edges, cv2.RETR_EXTERNAL, cv2.CHAIN_APPROX_SIMPLE)\n",
    "\n",
    "# Compter les objets\n",
    "nombre_objets = len(contours)\n",
    "print(f\"Nombre d'objets détectés : {nombre_objets}\")\n",
    "\n",
    "# Dessiner les contours sur l'image originale\n",
    "image_with_contours = image.copy()\n",
    "cv2.drawContours(image_with_contours, contours, -1, (0, 255, 0), 3)\n",
    "\n",
    "# Afficher l'image avec les contours\n",
    "cv2.imshow(\"Contours\", image_with_contours)\n",
    "cv2.waitKey(0)\n",
    "cv2.destroyAllWindows()"
   ]
  },
  {
   "cell_type": "code",
   "execution_count": 20,
   "metadata": {},
   "outputs": [
    {
     "name": "stdout",
     "output_type": "stream",
     "text": [
      "Nombre de contours : 1\n"
     ]
    }
   ],
   "source": [
    "import cv2\n",
    "import numpy as np\n",
    "\n",
    "# Charger l'image en niveaux de gris\n",
    "image = cv2.imread(\"image_03.jpg\")\n",
    "gray = cv2.cvtColor(image, cv2.COLOR_BGR2GRAY)\n",
    "\n",
    "# Appliquer un filtre de seuillage adaptatif avec la méthode Otsu\n",
    "_, binary = cv2.threshold(gray, 0, 255, cv2.THRESH_BINARY + cv2.THRESH_OTSU)\n",
    "\n",
    "# Trouver les contours\n",
    "contours, hierarchy = cv2.findContours(binary, cv2.RETR_EXTERNAL, cv2.CHAIN_APPROX_SIMPLE)\n",
    "\n",
    "# Tracer les contours en rouge\n",
    "image_with_contours = cv2.drawContours(image.copy(), contours, -1, (0, 0, 255), 2)\n",
    "\n",
    "# Compter les contours\n",
    "num_contours = len(contours)\n",
    "\n",
    "# Afficher les images et le nombre de contours\n",
    "cv2.imshow(\"Image avec contours\", image_with_contours)\n",
    "cv2.imshow(\"Image originale\", image)\n",
    "print(\"Nombre de contours :\", num_contours)\n",
    "cv2.waitKey(0)\n",
    "cv2.destroyAllWindows()\n"
   ]
  },
  {
   "cell_type": "markdown",
   "metadata": {},
   "source": [
    "Bravo !"
   ]
  },
  {
   "cell_type": "code",
   "execution_count": 12,
   "metadata": {},
   "outputs": [],
   "source": [
    "import cv2\n",
    "\n",
    "# Charger l'image en niveaux de gris\n",
    "image = cv2.imread(\"mona.png\", cv2.IMREAD_GRAYSCALE)\n",
    "\n",
    "# Appliquer un filtre bilatéral\n",
    "bilateral_filtered_image = cv2.bilateralFilter(image, 9, 75, 75)\n",
    "\n",
    "# Afficher les images\n",
    "cv2.imshow(\"Image originale\", image)\n",
    "cv2.imshow(\"Filtre bilatéral\", bilateral_filtered_image)\n",
    "cv2.waitKey(0)\n",
    "cv2.destroyAllWindows()\n"
   ]
  },
  {
   "cell_type": "code",
   "execution_count": 14,
   "metadata": {},
   "outputs": [],
   "source": [
    "import cv2\n",
    "\n",
    "# Charger l'image en niveaux de gris\n",
    "image = cv2.imread(\"mona.png\", cv2.IMREAD_GRAYSCALE)\n",
    "\n",
    "# Appliquer un filtre non-local means\n",
    "nlm_filtered_image = cv2.fastNlMeansDenoising(image, h=10, templateWindowSize=7, searchWindowSize=21)\n",
    "\n",
    "# Afficher les images\n",
    "cv2.imshow(\"Image originale\", image)\n",
    "cv2.imshow(\"Filtre non-local means\", nlm_filtered_image)\n",
    "cv2.waitKey(0)\n",
    "cv2.destroyAllWindows()\n"
   ]
  },
  {
   "cell_type": "code",
   "execution_count": 40,
   "metadata": {},
   "outputs": [],
   "source": [
    "import cv2\n",
    "\n",
    "# Charger l'image en niveaux de gris\n",
    "image = cv2.imread(\"mona.png\", cv2.IMREAD_GRAYSCALE)\n",
    "\n",
    "# Appliquer un filtre médian\n",
    "median_filtered_image = cv2.medianBlur(image, 5)\n",
    "\n",
    "# Appliquer un filtre Gaussien\n",
    "gaussian_filtered_image = cv2.GaussianBlur(image, (5, 5), 0)\n",
    "\n",
    "# Afficher les images filtrées\n",
    "cv2.imshow(\"Image originale\", image)\n",
    "cv2.imshow(\"Filtre médian\", median_filtered_image)\n",
    "cv2.imshow(\"Filtre Gaussien\", gaussian_filtered_image)\n",
    "cv2.waitKey(0)\n",
    "cv2.destroyAllWindows()\n"
   ]
  },
  {
   "cell_type": "code",
   "execution_count": 54,
   "metadata": {},
   "outputs": [],
   "source": [
    "import cv2\n",
    "import numpy as np\n",
    "\n",
    "# Charger l'image en niveaux de gris\n",
    "image = cv2.imread(\"mona.png\", cv2.IMREAD_GRAYSCALE)\n",
    "\n",
    "# Appliquer un filtre médian pour réduire le bruit\n",
    "median_filtered_image = cv2.medianBlur(image, 5)\n",
    "\n",
    "# Définir le noyau pour l'ouverture et la fermeture morphologiques\n",
    "kernel_size = 1\n",
    "kernel = np.ones((kernel_size, kernel_size), np.uint8)\n",
    "\n",
    "# Appliquer l'ouverture morphologique pour éliminer les petites taches sombres\n",
    "opening = cv2.morphologyEx(median_filtered_image, cv2.MORPH_OPEN, kernel)\n",
    "\n",
    "# Appliquer la fermeture morphologique pour éliminer les petites taches claires\n",
    "closing = cv2.morphologyEx(opening, cv2.MORPH_CLOSE, kernel)\n",
    "\n",
    "kernel_size = 3\n",
    "kernel = np.ones((kernel_size, kernel_size), np.uint8)\n",
    "\n",
    "# Appliquer l'ouverture morphologique pour éliminer les petites taches sombres\n",
    "opening = cv2.morphologyEx(median_filtered_image, cv2.MORPH_OPEN, kernel)\n",
    "\n",
    "# Appliquer la fermeture morphologique pour éliminer les petites taches claires\n",
    "closing = cv2.morphologyEx(opening, cv2.MORPH_CLOSE, kernel)\n",
    "\n",
    "# Définir le noyau pour l'ouverture et la fermeture morphologiques\n",
    "kernel_size = 5\n",
    "kernel = np.ones((kernel_size, kernel_size), np.uint8)\n",
    "\n",
    "# Appliquer l'ouverture morphologique pour éliminer les petites taches sombres\n",
    "opening = cv2.morphologyEx(median_filtered_image, cv2.MORPH_OPEN, kernel)\n",
    "\n",
    "# Appliquer la fermeture morphologique pour éliminer les petites taches claires\n",
    "closing = cv2.morphologyEx(opening, cv2.MORPH_CLOSE, kernel)\n",
    "\n",
    "# Afficher l'image résultante\n",
    "cv2.imshow(\"Image resultante\", closing)\n",
    "cv2.waitKey(0)\n",
    "cv2.destroyAllWindows()\n"
   ]
  }
 ],
 "metadata": {
  "interpreter": {
   "hash": "2e29c752e75e91034d0c40602915a17cb0379d8f99d244b8deba46517b7d2192"
  },
  "kernelspec": {
   "display_name": "Python 3.6.13 64-bit ('fc': conda)",
   "language": "python",
   "name": "python3"
  },
  "language_info": {
   "codemirror_mode": {
    "name": "ipython",
    "version": 3
   },
   "file_extension": ".py",
   "mimetype": "text/x-python",
   "name": "python",
   "nbconvert_exporter": "python",
   "pygments_lexer": "ipython3",
   "version": "3.12.2"
  },
  "orig_nbformat": 4
 },
 "nbformat": 4,
 "nbformat_minor": 2
}
